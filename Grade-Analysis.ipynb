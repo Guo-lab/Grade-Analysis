{
 "cells": [
  {
   "cell_type": "code",
   "execution_count": 1,
   "metadata": {},
   "outputs": [
    {
     "data": {
      "text/html": [
       "<div>\n",
       "<style scoped>\n",
       "    .dataframe tbody tr th:only-of-type {\n",
       "        vertical-align: middle;\n",
       "    }\n",
       "\n",
       "    .dataframe tbody tr th {\n",
       "        vertical-align: top;\n",
       "    }\n",
       "\n",
       "    .dataframe thead th {\n",
       "        text-align: right;\n",
       "    }\n",
       "</style>\n",
       "<table border=\"1\" class=\"dataframe\">\n",
       "  <thead>\n",
       "    <tr style=\"text-align: right;\">\n",
       "      <th></th>\n",
       "      <th>学年学期</th>\n",
       "      <th>课程代码</th>\n",
       "      <th>课程名称</th>\n",
       "      <th>课程类别</th>\n",
       "      <th>课程性质</th>\n",
       "      <th>学分</th>\n",
       "      <th>成绩</th>\n",
       "      <th>绩点</th>\n",
       "    </tr>\n",
       "  </thead>\n",
       "  <tbody>\n",
       "    <tr>\n",
       "      <th>0</th>\n",
       "      <td>2019-2020 1</td>\n",
       "      <td>1140001</td>\n",
       "      <td>法制安全教育</td>\n",
       "      <td>文化素质教育必修</td>\n",
       "      <td>必修</td>\n",
       "      <td>0.5</td>\n",
       "      <td>94</td>\n",
       "      <td>4.0</td>\n",
       "    </tr>\n",
       "  </tbody>\n",
       "</table>\n",
       "</div>"
      ],
      "text/plain": [
       "          学年学期     课程代码    课程名称      课程类别 课程性质   学分  成绩   绩点\n",
       "0  2019-2020 1  1140001  法制安全教育  文化素质教育必修   必修  0.5  94  4.0"
      ]
     },
     "execution_count": 1,
     "metadata": {},
     "output_type": "execute_result"
    }
   ],
   "source": [
    "import pandas as pd\n",
    "import numpy as np\n",
    "import matplotlib.pyplot as plt\n",
    "import datetime\n",
    "import matplotlib\n",
    "\n",
    "G = pd.read_excel(\"GPA.xlsx\")\n",
    "\n",
    "G.head(1)"
   ]
  },
  {
   "cell_type": "code",
   "execution_count": 2,
   "metadata": {},
   "outputs": [
    {
     "data": {
      "text/plain": [
       "'2019'"
      ]
     },
     "execution_count": 2,
     "metadata": {},
     "output_type": "execute_result"
    }
   ],
   "source": [
    "Y = []\n",
    "for i in G['学年学期']:\n",
    "    Y.append(i.split(\"-\")[0])\n",
    "Y[1]"
   ]
  },
  {
   "cell_type": "code",
   "execution_count": 3,
   "metadata": {},
   "outputs": [
    {
     "data": {
      "text/plain": [
       "'1'"
      ]
     },
     "execution_count": 3,
     "metadata": {},
     "output_type": "execute_result"
    }
   ],
   "source": [
    "M = []\n",
    "for i in G['学年学期']:\n",
    "    M.append(i.split(\" \")[1])\n",
    "M[1]"
   ]
  },
  {
   "cell_type": "code",
   "execution_count": 4,
   "metadata": {},
   "outputs": [
    {
     "data": {
      "text/plain": [
       "'2019 9'"
      ]
     },
     "execution_count": 4,
     "metadata": {},
     "output_type": "execute_result"
    }
   ],
   "source": [
    "YM = []\n",
    "for i in G['学年学期']:\n",
    "    YM.append( \\\n",
    "        (i.split(\"-\")[0] if i.split(\" \")[1]=='1' else i.split(\"-\")[1].split(' ')[0] ) \\\n",
    "            + ' ' + \\\n",
    "        ('9' if i.split(\" \")[1]=='1' else '3') \\\n",
    "    )\n",
    "YM[1]"
   ]
  },
  {
   "cell_type": "code",
   "execution_count": 5,
   "metadata": {},
   "outputs": [
    {
     "data": {
      "text/plain": [
       "2100004"
      ]
     },
     "execution_count": 5,
     "metadata": {},
     "output_type": "execute_result"
    }
   ],
   "source": [
    "M = []\n",
    "for i in G['课程代码']:\n",
    "    M.append(i)\n",
    "M[1]"
   ]
  },
  {
   "cell_type": "code",
   "execution_count": 6,
   "metadata": {},
   "outputs": [
    {
     "name": "stdout",
     "output_type": "stream",
     "text": [
      "        年月     课程代码\n",
      "0   2019 9  1140001\n",
      "1   2019 9  2100004\n",
      "2   2019 9  2100558\n",
      "3   2019 9  2111292\n",
      "4   2019 9  2160279\n",
      "5   2019 9  2180277\n",
      "6   2019 9  2180278\n",
      "7   2019 9  2180279\n",
      "8   2019 9  2310001\n",
      "9   2019 9  4010005\n",
      "10  2019 9  4080001\n",
      "11  2019 9  4350001\n",
      "12  2019 9  5100019\n",
      "13  2019 9  5100055\n",
      "14  2019 9  5100075\n",
      "15  2020 3  2091046\n",
      "16  2020 3  2100005\n",
      "17  2020 3  2100097\n",
      "18  2020 3  2111293\n",
      "19  2020 3  2140231\n",
      "20  2020 3  2210015\n",
      "21  2020 3  2310002\n",
      "22  2020 3  2440046\n",
      "23  2020 3  2440049\n",
      "24  2020 3  2440050\n",
      "25  2020 3  5100057\n",
      "26  2020 3  5100076\n",
      "27  2020 9  2100075\n",
      "28  2020 9  2100098\n",
      "29  2020 9  2100346\n",
      "30  2020 9  2100605\n",
      "31  2020 9  2111140\n",
      "32  2020 9  2111294\n",
      "33  2020 9  2310003\n",
      "34  2020 9  2440031\n",
      "35  2020 9  2440072\n",
      "36  2020 9  2440078\n",
      "37  2020 9  2440094\n",
      "38  2020 9  4010007\n",
      "39  2020 9  5100078\n",
      "40  2021 3  2010911\n",
      "41  2021 3  2010951\n",
      "42  2021 3  2100347\n",
      "43  2021 3  2111295\n",
      "44  2021 3  2160044\n",
      "45  2021 3  2160240\n",
      "46  2021 3  2310004\n",
      "47  2021 3  2440045\n",
      "48  2021 3  2440125\n",
      "49  2021 3  2440126\n",
      "50  2021 3  2440130\n",
      "51  2021 3  3020017\n",
      "52  2021 3  4010008\n",
      "53  2021 9  2310090\n",
      "54  2021 9  2440057\n",
      "55  2021 9  2440065\n",
      "56  2021 9  2440067\n",
      "57  2021 9  2440138\n"
     ]
    }
   ],
   "source": [
    "data = [YM, M]\n",
    "data = pd.DataFrame(data)\n",
    "#print(data.shape)\n",
    "# rows=[\"年月\", \"课程代码\"]\n",
    "data = data.T\n",
    "data.columns=['年月', '课程代码']\n",
    "print(data)"
   ]
  },
  {
   "cell_type": "markdown",
   "metadata": {},
   "source": [
    "## 转换年份"
   ]
  },
  {
   "cell_type": "code",
   "execution_count": 7,
   "metadata": {},
   "outputs": [
    {
     "data": {
      "text/html": [
       "<div>\n",
       "<style scoped>\n",
       "    .dataframe tbody tr th:only-of-type {\n",
       "        vertical-align: middle;\n",
       "    }\n",
       "\n",
       "    .dataframe tbody tr th {\n",
       "        vertical-align: top;\n",
       "    }\n",
       "\n",
       "    .dataframe thead th {\n",
       "        text-align: right;\n",
       "    }\n",
       "</style>\n",
       "<table border=\"1\" class=\"dataframe\">\n",
       "  <thead>\n",
       "    <tr style=\"text-align: right;\">\n",
       "      <th></th>\n",
       "      <th>年月</th>\n",
       "      <th>课程代码</th>\n",
       "      <th>学年学期</th>\n",
       "      <th>课程名称</th>\n",
       "      <th>课程类别</th>\n",
       "      <th>课程性质</th>\n",
       "      <th>学分</th>\n",
       "      <th>成绩</th>\n",
       "      <th>绩点</th>\n",
       "    </tr>\n",
       "  </thead>\n",
       "  <tbody>\n",
       "    <tr>\n",
       "      <th>0</th>\n",
       "      <td>2019 9</td>\n",
       "      <td>1140001</td>\n",
       "      <td>2019-2020 1</td>\n",
       "      <td>法制安全教育</td>\n",
       "      <td>文化素质教育必修</td>\n",
       "      <td>必修</td>\n",
       "      <td>0.5</td>\n",
       "      <td>94</td>\n",
       "      <td>4.0</td>\n",
       "    </tr>\n",
       "  </tbody>\n",
       "</table>\n",
       "</div>"
      ],
      "text/plain": [
       "       年月     课程代码         学年学期    课程名称      课程类别 课程性质   学分  成绩   绩点\n",
       "0  2019 9  1140001  2019-2020 1  法制安全教育  文化素质教育必修   必修  0.5  94  4.0"
      ]
     },
     "execution_count": 7,
     "metadata": {},
     "output_type": "execute_result"
    }
   ],
   "source": [
    "G2 = pd.merge(data, G)\n",
    "G2.head(1)"
   ]
  },
  {
   "cell_type": "code",
   "execution_count": 8,
   "metadata": {},
   "outputs": [
    {
     "data": {
      "text/html": [
       "<div>\n",
       "<style scoped>\n",
       "    .dataframe tbody tr th:only-of-type {\n",
       "        vertical-align: middle;\n",
       "    }\n",
       "\n",
       "    .dataframe tbody tr th {\n",
       "        vertical-align: top;\n",
       "    }\n",
       "\n",
       "    .dataframe thead th {\n",
       "        text-align: right;\n",
       "    }\n",
       "</style>\n",
       "<table border=\"1\" class=\"dataframe\">\n",
       "  <thead>\n",
       "    <tr style=\"text-align: right;\">\n",
       "      <th></th>\n",
       "      <th>年月</th>\n",
       "      <th>课程代码</th>\n",
       "      <th>学年学期</th>\n",
       "      <th>课程名称</th>\n",
       "      <th>课程类别</th>\n",
       "      <th>课程性质</th>\n",
       "      <th>学分</th>\n",
       "      <th>成绩</th>\n",
       "      <th>绩点</th>\n",
       "    </tr>\n",
       "  </thead>\n",
       "  <tbody>\n",
       "    <tr>\n",
       "      <th>0</th>\n",
       "      <td>2019-09-01</td>\n",
       "      <td>1140001</td>\n",
       "      <td>2019-2020 1</td>\n",
       "      <td>法制安全教育</td>\n",
       "      <td>文化素质教育必修</td>\n",
       "      <td>必修</td>\n",
       "      <td>0.5</td>\n",
       "      <td>94</td>\n",
       "      <td>4.0</td>\n",
       "    </tr>\n",
       "  </tbody>\n",
       "</table>\n",
       "</div>"
      ],
      "text/plain": [
       "          年月     课程代码         学年学期    课程名称      课程类别 课程性质   学分  成绩   绩点\n",
       "0 2019-09-01  1140001  2019-2020 1  法制安全教育  文化素质教育必修   必修  0.5  94  4.0"
      ]
     },
     "execution_count": 8,
     "metadata": {},
     "output_type": "execute_result"
    }
   ],
   "source": [
    "G2['年月'] = G2['年月'].apply(lambda x:datetime.datetime( int(x.split(' ')[0]), int(x.split(' ')[1]), 1)  )\n",
    "G2.head(1)"
   ]
  },
  {
   "cell_type": "markdown",
   "metadata": {},
   "source": [
    "## 统计成绩"
   ]
  },
  {
   "cell_type": "markdown",
   "metadata": {},
   "source": [
    "### 麻烦的操作思路"
   ]
  },
  {
   "cell_type": "code",
   "execution_count": 9,
   "metadata": {},
   "outputs": [
    {
     "data": {
      "text/plain": [
       "str"
      ]
     },
     "execution_count": 9,
     "metadata": {},
     "output_type": "execute_result"
    }
   ],
   "source": [
    "type(G2['成绩'])\n",
    "type(G2['成绩'][0])\n",
    "type(G2['成绩'][4])\n",
    "\n",
    "#G2 = G2.sort_values(by='年月')\n",
    "#G2['成绩'].apply(lambda x: x.isnumeric())\n",
    "#G2['成绩']\n",
    "#G2"
   ]
  },
  {
   "cell_type": "markdown",
   "metadata": {},
   "source": [
    "### 换思路"
   ]
  },
  {
   "cell_type": "code",
   "execution_count": 10,
   "metadata": {},
   "outputs": [
    {
     "data": {
      "text/html": [
       "<div>\n",
       "<style scoped>\n",
       "    .dataframe tbody tr th:only-of-type {\n",
       "        vertical-align: middle;\n",
       "    }\n",
       "\n",
       "    .dataframe tbody tr th {\n",
       "        vertical-align: top;\n",
       "    }\n",
       "\n",
       "    .dataframe thead th {\n",
       "        text-align: right;\n",
       "    }\n",
       "</style>\n",
       "<table border=\"1\" class=\"dataframe\">\n",
       "  <thead>\n",
       "    <tr style=\"text-align: right;\">\n",
       "      <th></th>\n",
       "      <th>年月</th>\n",
       "      <th>课程代码</th>\n",
       "      <th>学年学期</th>\n",
       "      <th>课程名称</th>\n",
       "      <th>课程类别</th>\n",
       "      <th>课程性质</th>\n",
       "      <th>学分</th>\n",
       "      <th>成绩</th>\n",
       "      <th>绩点</th>\n",
       "    </tr>\n",
       "  </thead>\n",
       "  <tbody>\n",
       "    <tr>\n",
       "      <th>0</th>\n",
       "      <td>2019-09-01</td>\n",
       "      <td>1140001</td>\n",
       "      <td>2019-2020 1</td>\n",
       "      <td>法制安全教育</td>\n",
       "      <td>文化素质教育必修</td>\n",
       "      <td>必修</td>\n",
       "      <td>0.5</td>\n",
       "      <td>94</td>\n",
       "      <td>4.0</td>\n",
       "    </tr>\n",
       "  </tbody>\n",
       "</table>\n",
       "</div>"
      ],
      "text/plain": [
       "          年月     课程代码         学年学期    课程名称      课程类别 课程性质   学分  成绩   绩点\n",
       "0 2019-09-01  1140001  2019-2020 1  法制安全教育  文化素质教育必修   必修  0.5  94  4.0"
      ]
     },
     "execution_count": 10,
     "metadata": {},
     "output_type": "execute_result"
    }
   ],
   "source": [
    "G3 = G2.drop( G2[ G2['成绩']=='P'].index, axis=0)\n",
    "G4 = G3.drop( G2[ G2['成绩']=='NP'].index, axis=0)\n",
    "\n",
    "G5 = G4.drop( G2[ G2['成绩']=='A'].index, axis=0)\n",
    "G5.head(1)"
   ]
  },
  {
   "cell_type": "markdown",
   "metadata": {},
   "source": [
    "### 日期有一点点迷"
   ]
  },
  {
   "cell_type": "code",
   "execution_count": 11,
   "metadata": {},
   "outputs": [
    {
     "data": {
      "text/plain": [
       "<matplotlib.lines.Line2D at 0x7fedf12b6ca0>"
      ]
     },
     "execution_count": 11,
     "metadata": {},
     "output_type": "execute_result"
    },
    {
     "data": {
      "image/png": "[encoded data removed]",
      "text/plain": [
       "<Figure size 432x288 with 1 Axes>"
      ]
     },
     "metadata": {
      "needs_background": "light"
     },
     "output_type": "display_data"
    }
   ],
   "source": [
    "plt.plot(G5['成绩'][ G5[ G5['年月']=='2019-09-01'].index.min() : G5[ G5['年月']=='2020-03-01'].index.min()-1])\n",
    "plt.plot(G5['成绩'][ G5[ G5['年月']=='2020-03-01'].index.min()-2 : G5[ G5['年月']=='2020-09-01'].index.min()-1])\n",
    "plt.plot(G5['成绩'][ G5[ G5['年月']=='2020-09-01'].index.min()-3 : G5[ G5['年月']=='2021-03-01'].index.min()-1])\n",
    "plt.plot(G5['成绩'][ G5[ G5['年月']=='2021-03-01'].index.min()-4 : G5[ G5['年月']=='2021-09-01'].index.min()-1])\n",
    "plt.plot(G5['成绩'][ G5[ G5['年月']=='2021-09-01'].index.min()-4 : G5[ G5['年月']=='2021-09-01'].index.max()], color='orange')\n",
    "plt.axhline(90, color='m' )\n",
    "plt.axvline( G5[ G5['年月']=='2020-03-01'].index.min()-1 )\n",
    "plt.axvline( G5[ G5['年月']=='2020-09-01'].index.min()-1, color='orange')\n",
    "plt.axvline( G5[ G5['年月']=='2021-03-01'].index.min()-1, color='g' )\n",
    "plt.axvline( G5[ G5['年月']=='2021-09-01'].index.min()-1, color='r' )\n"
   ]
  },
  {
   "cell_type": "code",
   "execution_count": null,
   "metadata": {},
   "outputs": [],
   "source": [
    "G5['总成绩'] = G5.apply(lambda x: x['学分'] * x['成绩'], axis=1)\n",
    "G5['总成绩'].sum() / G5['学分'].sum()"
   ]
  },
  {
   "cell_type": "code",
   "execution_count": null,
   "metadata": {},
   "outputs": [],
   "source": [
    "G5['总绩点'] = G5.apply(lambda x: x['学分'] * x['绩点'], axis=1)\n",
    "G5['总绩点'].sum() / G5['学分'].sum()"
   ]
  }
 ],
 "metadata": {
  "interpreter": {
   "hash": "31f2aee4e71d21fbe5cf8b01ff0e069b9275f58929596ceb00d14d90e3e16cd6"
  },
  "kernelspec": {
   "display_name": "Python 3.8.9 64-bit",
   "language": "python",
   "name": "python3"
  },
  "language_info": {
   "codemirror_mode": {
    "name": "ipython",
    "version": 3
   },
   "file_extension": ".py",
   "mimetype": "text/x-python",
   "name": "python",
   "nbconvert_exporter": "python",
   "pygments_lexer": "ipython3",
   "version": "3.8.11"
  },
  "orig_nbformat": 4
 },
 "nbformat": 4,
 "nbformat_minor": 2
}
